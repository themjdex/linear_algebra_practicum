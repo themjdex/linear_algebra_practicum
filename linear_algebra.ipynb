{
 "cells": [
  {
   "cell_type": "markdown",
   "metadata": {
    "toc": true
   },
   "source": [
    "<h1>Содержание<span class=\"tocSkip\"></span></h1>\n",
    "<div class=\"toc\"><ul class=\"toc-item\"><li><span><a href=\"#Загрузка-данных\" data-toc-modified-id=\"Загрузка-данных-1\"><span class=\"toc-item-num\">1&nbsp;&nbsp;</span>Загрузка данных</a></span></li><li><span><a href=\"#Умножение-матриц\" data-toc-modified-id=\"Умножение-матриц-2\"><span class=\"toc-item-num\">2&nbsp;&nbsp;</span>Умножение матриц</a></span></li><li><span><a href=\"#Алгоритм-преобразования\" data-toc-modified-id=\"Алгоритм-преобразования-3\"><span class=\"toc-item-num\">3&nbsp;&nbsp;</span>Алгоритм преобразования</a></span></li><li><span><a href=\"#Проверка-алгоритма\" data-toc-modified-id=\"Проверка-алгоритма-4\"><span class=\"toc-item-num\">4&nbsp;&nbsp;</span>Проверка алгоритма</a></span><ul class=\"toc-item\"><li><span><a href=\"#Подготовка-данных\" data-toc-modified-id=\"Подготовка-данных-4.1\"><span class=\"toc-item-num\">4.1&nbsp;&nbsp;</span>Подготовка данных</a></span></li><li><span><a href=\"#Обучение\" data-toc-modified-id=\"Обучение-4.2\"><span class=\"toc-item-num\">4.2&nbsp;&nbsp;</span>Обучение</a></span></li></ul></li><li><span><a href=\"#Вывод\" data-toc-modified-id=\"Вывод-5\"><span class=\"toc-item-num\">5&nbsp;&nbsp;</span>Вывод</a></span></li></ul></div>"
   ]
  },
  {
   "cell_type": "markdown",
   "metadata": {},
   "source": [
    "# Защита персональных данных клиентов"
   ]
  },
  {
   "cell_type": "markdown",
   "metadata": {},
   "source": [
    "Вам нужно защитить данные клиентов страховой компании «Хоть потоп». Разработайте такой метод преобразования данных, чтобы по ним было сложно восстановить персональную информацию. Обоснуйте корректность его работы.\n",
    "\n",
    "Нужно защитить данные, чтобы при преобразовании качество моделей машинного обучения не ухудшилось. Подбирать наилучшую модель не требуется."
   ]
  },
  {
   "cell_type": "markdown",
   "metadata": {},
   "source": [
    "## Загрузка данных"
   ]
  },
  {
   "cell_type": "code",
   "execution_count": 1,
   "metadata": {},
   "outputs": [],
   "source": [
    "import pandas as pd\n",
    "import numpy as np\n",
    "\n",
    "from sklearn.linear_model import LinearRegression\n",
    "from sklearn.metrics import r2_score\n",
    "from seaborn import heatmap\n",
    "from sklearn.model_selection import train_test_split\n",
    "from sklearn.preprocessing import StandardScaler"
   ]
  },
  {
   "cell_type": "code",
   "execution_count": 2,
   "metadata": {},
   "outputs": [],
   "source": [
    "try:\n",
    "    data = pd.read_csv('/datasets/insurance.csv')\n",
    "except:\n",
    "    raise Exception('error')"
   ]
  },
  {
   "cell_type": "code",
   "execution_count": 3,
   "metadata": {},
   "outputs": [
    {
     "data": {
      "text/html": [
       "<div>\n",
       "<style scoped>\n",
       "    .dataframe tbody tr th:only-of-type {\n",
       "        vertical-align: middle;\n",
       "    }\n",
       "\n",
       "    .dataframe tbody tr th {\n",
       "        vertical-align: top;\n",
       "    }\n",
       "\n",
       "    .dataframe thead th {\n",
       "        text-align: right;\n",
       "    }\n",
       "</style>\n",
       "<table border=\"1\" class=\"dataframe\">\n",
       "  <thead>\n",
       "    <tr style=\"text-align: right;\">\n",
       "      <th></th>\n",
       "      <th>Пол</th>\n",
       "      <th>Возраст</th>\n",
       "      <th>Зарплата</th>\n",
       "      <th>Члены семьи</th>\n",
       "      <th>Страховые выплаты</th>\n",
       "    </tr>\n",
       "  </thead>\n",
       "  <tbody>\n",
       "    <tr>\n",
       "      <th>0</th>\n",
       "      <td>1</td>\n",
       "      <td>41.0</td>\n",
       "      <td>49600.0</td>\n",
       "      <td>1</td>\n",
       "      <td>0</td>\n",
       "    </tr>\n",
       "    <tr>\n",
       "      <th>1</th>\n",
       "      <td>0</td>\n",
       "      <td>46.0</td>\n",
       "      <td>38000.0</td>\n",
       "      <td>1</td>\n",
       "      <td>1</td>\n",
       "    </tr>\n",
       "    <tr>\n",
       "      <th>2</th>\n",
       "      <td>0</td>\n",
       "      <td>29.0</td>\n",
       "      <td>21000.0</td>\n",
       "      <td>0</td>\n",
       "      <td>0</td>\n",
       "    </tr>\n",
       "    <tr>\n",
       "      <th>3</th>\n",
       "      <td>0</td>\n",
       "      <td>21.0</td>\n",
       "      <td>41700.0</td>\n",
       "      <td>2</td>\n",
       "      <td>0</td>\n",
       "    </tr>\n",
       "    <tr>\n",
       "      <th>4</th>\n",
       "      <td>1</td>\n",
       "      <td>28.0</td>\n",
       "      <td>26100.0</td>\n",
       "      <td>0</td>\n",
       "      <td>0</td>\n",
       "    </tr>\n",
       "  </tbody>\n",
       "</table>\n",
       "</div>"
      ],
      "text/plain": [
       "   Пол  Возраст  Зарплата  Члены семьи  Страховые выплаты\n",
       "0    1     41.0   49600.0            1                  0\n",
       "1    0     46.0   38000.0            1                  1\n",
       "2    0     29.0   21000.0            0                  0\n",
       "3    0     21.0   41700.0            2                  0\n",
       "4    1     28.0   26100.0            0                  0"
      ]
     },
     "execution_count": 3,
     "metadata": {},
     "output_type": "execute_result"
    }
   ],
   "source": [
    "data.head()"
   ]
  },
  {
   "cell_type": "code",
   "execution_count": 4,
   "metadata": {
    "scrolled": true
   },
   "outputs": [
    {
     "name": "stdout",
     "output_type": "stream",
     "text": [
      "<class 'pandas.core.frame.DataFrame'>\n",
      "RangeIndex: 5000 entries, 0 to 4999\n",
      "Data columns (total 5 columns):\n",
      " #   Column             Non-Null Count  Dtype  \n",
      "---  ------             --------------  -----  \n",
      " 0   Пол                5000 non-null   int64  \n",
      " 1   Возраст            5000 non-null   float64\n",
      " 2   Зарплата           5000 non-null   float64\n",
      " 3   Члены семьи        5000 non-null   int64  \n",
      " 4   Страховые выплаты  5000 non-null   int64  \n",
      "dtypes: float64(2), int64(3)\n",
      "memory usage: 195.4 KB\n"
     ]
    }
   ],
   "source": [
    "data.info()"
   ]
  },
  {
   "cell_type": "code",
   "execution_count": 5,
   "metadata": {},
   "outputs": [
    {
     "data": {
      "text/plain": [
       "0"
      ]
     },
     "execution_count": 5,
     "metadata": {},
     "output_type": "execute_result"
    }
   ],
   "source": [
    "# проверим, есть ли пропуски\n",
    "data.isna().sum().sum()"
   ]
  },
  {
   "cell_type": "markdown",
   "metadata": {},
   "source": [
    "В итоге мы имеем датасет с 5000 объектами без пропусков, где кол-во страховых выплат является целевым признаком."
   ]
  },
  {
   "cell_type": "markdown",
   "metadata": {},
   "source": [
    "## Умножение матриц"
   ]
  },
  {
   "cell_type": "markdown",
   "metadata": {},
   "source": [
    "Обозначения:\n",
    "\n",
    "- $X$ — матрица признаков (нулевой столбец состоит из единиц)\n",
    "\n",
    "- $y$ — вектор целевого признака\n",
    "\n",
    "- $P$ — матрица, на которую умножаются признаки\n",
    "\n",
    "- $w$ — вектор весов линейной регрессии (нулевой элемент равен сдвигу)"
   ]
  },
  {
   "cell_type": "markdown",
   "metadata": {},
   "source": [
    "Предсказания:\n",
    "\n",
    "$$\n",
    "a = Xw\n",
    "$$\n",
    "\n",
    "Задача обучения:\n",
    "\n",
    "$$\n",
    "w = \\arg\\min_w MSE(Xw, y)\n",
    "$$\n",
    "\n",
    "Формула обучения:\n",
    "\n",
    "$$\n",
    "w = (X^T X)^{-1} X^T y\n",
    "$$"
   ]
  },
  {
   "cell_type": "markdown",
   "metadata": {},
   "source": [
    "**Ответ:** качество модели из-за преобразования не изменится.\n",
    "\n",
    "**Обоснование:** воспользуемся умножением матриц, а также единичными и обратными матрицами.\n",
    "Единичная матрица $E$ — это такая квадратная матрица, у которой по главной диагонали 1, а остальные нули. Если любую матрицу, например, А умножить на единичную, то получим первую без изменений.\n",
    "$$AE = A$$\n",
    "Обратная матрица $A^{-1}$ — это такая матрица, которая матрица, которая при умножении на исходную даст единичную независимо от порядка умножения:\n",
    "$$AA^{-1} = A^{-1}A = E$$\n",
    "Также нам потребуются свойства: $$(AB)^T = A^T B^T$$ $$(AB)^{-1} = A^{-1}B^{-1}$$\n",
    "Соответственно, матрицы, для которых удается найти обратную, называются обратимыми. Мы можем умножить матрицу с исходными значениями $X$ на обратимую $P$ для кодирования исходной информации. Формула станет:\n",
    "$$\n",
    "I = XPw\n",
    "$$\n",
    "\n",
    "$$\n",
    "w^` = ((IX)^T IX)^{-1} (IX)^T y\n",
    "$$\n",
    "Предсказания:\n",
    "$$\n",
    "a = Iw(I^TI)^{-1}y \n",
    "$$\n",
    "Подставим и упростим выражения, пользуясь свойствами:\n",
    "$$\n",
    "a^` = I(I^TI)^{-1}y = XP((XP)^TXP)^{-1}(XP)^Ty = X(P^T X^T X P)^{-1} (XP)^Ty = X(P^T (X^T X) P)^{-1} P^T X^Ty = \n",
    "P^{-1} (X^T X)^{-1} (P^T)^{-1} P^T X^T y = XX^{-1}((X)^T)^{-1}(P^T)^{-1}X^TP^Ty = XX^{-1}(X^T)^{-1}EX^Ty = X(X^TX)^{-1}X^Ty = Xw\n",
    "$$\n",
    "\n",
    "По факту в конце преобразований мы получили исходную формулу $w = (X^T X)^{-1} X^T y$, что указывает на на то, что $w = w^`$, предсказания будут теми же, и качество не изменится при одинаковом $X$."
   ]
  },
  {
   "cell_type": "markdown",
   "metadata": {},
   "source": [
    "Посмотрим на отношение $w_p$ и $w$:\n",
    "$$ XP w_p = X w $$\n",
    "Умножим обе части на $P^{-1}$:\n",
    "$$ XPw_p P^{-1} = Xw P^{-1}$$\n",
    "\n",
    "Так как $PP^{-1} = E$, то\n",
    "$$ XEw_p = Xw P^{-1} $$\n",
    "$$ Xw_p = Xw P^{-1} $$\n",
    "$$ w_p = w P^{-1} $$\n",
    "\n",
    "А если $P$ изначально взять единичной, то будет такое выражение:\n",
    "$$ XEw_p = Xw $$\n",
    "$$ Xw_p = Xw $$\n",
    "$$ w_p = w $$\n",
    "но смысла в таком кодировании нет."
   ]
  },
  {
   "cell_type": "markdown",
   "metadata": {},
   "source": [
    "В итоге мы получили, что даже с умножением обратимой матрицы предсказания не должны поменяться."
   ]
  },
  {
   "cell_type": "markdown",
   "metadata": {},
   "source": [
    "## Алгоритм преобразования"
   ]
  },
  {
   "cell_type": "markdown",
   "metadata": {},
   "source": [
    "**Алгоритм**\n",
    "\n",
    "1. создадим квадратную обратимую матрицу с размерностью, равной кол-во признаков для обучения\n",
    "2. проверим, что полученная матрица обратимая. Если нет, сгенирурем новую и еще раз проверим.\n",
    "3. обучим две модели линейной регресии на одних и тех же данных, но в одном случае умножим матрицу признаков на полученную ранее матрицу перед обучением\n",
    "4. сравним метрики R2, чтобы понять, оказало ли умножение матриц какое-либо влияние"
   ]
  },
  {
   "cell_type": "markdown",
   "metadata": {},
   "source": [
    "**Обоснование**\n",
    "\n",
    "Как мы выше показали, при умножении матрицы качество модели не должно существенно измениться. Если так и произойдет на одних и тех же данных, то можно считать, что алгоритм корректен."
   ]
  },
  {
   "cell_type": "markdown",
   "metadata": {},
   "source": [
    "## Проверка алгоритма"
   ]
  },
  {
   "cell_type": "markdown",
   "metadata": {},
   "source": [
    "### Подготовка данных"
   ]
  },
  {
   "cell_type": "markdown",
   "metadata": {},
   "source": [
    "Перед обучением моделей нам нужно произвести подготовку данных, а именно:\n",
    "- проверить наличие сильной корреляции признаков\n",
    "- выделить признаки и целевые признаки\n",
    "- разбить на тренировочную и тестовую выборки\n",
    "- скалировать значения\n",
    "- подготовить обратимую матрицу"
   ]
  },
  {
   "cell_type": "code",
   "execution_count": 7,
   "metadata": {},
   "outputs": [],
   "source": [
    "# выделяем признаки\n",
    "features = data.drop('Страховые выплаты', axis=1)\n",
    "target = data['Страховые выплаты']"
   ]
  },
  {
   "cell_type": "code",
   "execution_count": 8,
   "metadata": {
    "scrolled": false
   },
   "outputs": [
    {
     "data": {
      "image/png": "[encoded data removed]",
      "text/plain": [
       "<Figure size 432x288 with 2 Axes>"
      ]
     },
     "metadata": {
      "needs_background": "light"
     },
     "output_type": "display_data"
    }
   ],
   "source": [
    "# проверяем корреляцию\n",
    "heatmap(features.corr(), annot=True);"
   ]
  },
  {
   "cell_type": "code",
   "execution_count": 9,
   "metadata": {},
   "outputs": [],
   "source": [
    "# обозначим рандом\n",
    "RANDOM_STATE = 999"
   ]
  },
  {
   "cell_type": "code",
   "execution_count": 10,
   "metadata": {},
   "outputs": [
    {
     "name": "stdout",
     "output_type": "stream",
     "text": [
      "(3750, 4)\n",
      "(1250, 4)\n",
      "(3750,)\n",
      "(1250,)\n"
     ]
    }
   ],
   "source": [
    "# разбиваем выборки\n",
    "features_train, features_test, target_train, target_test = train_test_split(\n",
    "    features, target, random_state=RANDOM_STATE, test_size=.25)\n",
    "\n",
    "print(features_train.shape)\n",
    "print(features_test.shape)\n",
    "print(target_train.shape)\n",
    "print(target_test.shape)"
   ]
  },
  {
   "cell_type": "code",
   "execution_count": 11,
   "metadata": {},
   "outputs": [
    {
     "data": {
      "text/html": [
       "<div>\n",
       "<style scoped>\n",
       "    .dataframe tbody tr th:only-of-type {\n",
       "        vertical-align: middle;\n",
       "    }\n",
       "\n",
       "    .dataframe tbody tr th {\n",
       "        vertical-align: top;\n",
       "    }\n",
       "\n",
       "    .dataframe thead th {\n",
       "        text-align: right;\n",
       "    }\n",
       "</style>\n",
       "<table border=\"1\" class=\"dataframe\">\n",
       "  <thead>\n",
       "    <tr style=\"text-align: right;\">\n",
       "      <th></th>\n",
       "      <th>0</th>\n",
       "      <th>1</th>\n",
       "      <th>2</th>\n",
       "      <th>3</th>\n",
       "    </tr>\n",
       "  </thead>\n",
       "  <tbody>\n",
       "    <tr>\n",
       "      <th>0</th>\n",
       "      <td>0.997869</td>\n",
       "      <td>-1.062860</td>\n",
       "      <td>-1.038101</td>\n",
       "      <td>0.729690</td>\n",
       "    </tr>\n",
       "    <tr>\n",
       "      <th>1</th>\n",
       "      <td>0.997869</td>\n",
       "      <td>-1.181253</td>\n",
       "      <td>-1.120189</td>\n",
       "      <td>-1.104317</td>\n",
       "    </tr>\n",
       "    <tr>\n",
       "      <th>2</th>\n",
       "      <td>-1.002136</td>\n",
       "      <td>-0.352497</td>\n",
       "      <td>1.660534</td>\n",
       "      <td>-1.104317</td>\n",
       "    </tr>\n",
       "    <tr>\n",
       "      <th>3</th>\n",
       "      <td>-1.002136</td>\n",
       "      <td>1.423408</td>\n",
       "      <td>-1.448540</td>\n",
       "      <td>-1.104317</td>\n",
       "    </tr>\n",
       "    <tr>\n",
       "      <th>4</th>\n",
       "      <td>-1.002136</td>\n",
       "      <td>0.594652</td>\n",
       "      <td>-0.586618</td>\n",
       "      <td>-1.104317</td>\n",
       "    </tr>\n",
       "  </tbody>\n",
       "</table>\n",
       "</div>"
      ],
      "text/plain": [
       "          0         1         2         3\n",
       "0  0.997869 -1.062860 -1.038101  0.729690\n",
       "1  0.997869 -1.181253 -1.120189 -1.104317\n",
       "2 -1.002136 -0.352497  1.660534 -1.104317\n",
       "3 -1.002136  1.423408 -1.448540 -1.104317\n",
       "4 -1.002136  0.594652 -0.586618 -1.104317"
      ]
     },
     "execution_count": 11,
     "metadata": {},
     "output_type": "execute_result"
    }
   ],
   "source": [
    "# скалируем значения, обучив на трейновой выборке\n",
    "scaler = StandardScaler()\n",
    "scaler.fit(features_train)\n",
    "features_train_scaled = pd.DataFrame(scaler.transform(features_train))\n",
    "features_test_scaled = pd.DataFrame(scaler.transform(features_test))\n",
    "\n",
    "features_train_scaled.head()"
   ]
  },
  {
   "cell_type": "code",
   "execution_count": 12,
   "metadata": {},
   "outputs": [],
   "source": [
    "def get_random_inv_matrix(dim):\n",
    "    matrix = np.random.rand(dim, dim)\n",
    "    try:\n",
    "        np.linalg.inv(matrix)\n",
    "        return matrix\n",
    "    except:\n",
    "        get_random_inv_matrix(dim)"
   ]
  },
  {
   "cell_type": "code",
   "execution_count": 13,
   "metadata": {},
   "outputs": [
    {
     "data": {
      "text/plain": [
       "array([[0.19980643, 0.79093817, 0.79546413, 0.04336677],\n",
       "       [0.44319721, 0.0409752 , 0.33830446, 0.08951497],\n",
       "       [0.58161789, 0.19624016, 0.97777499, 0.65471076],\n",
       "       [0.19522433, 0.04611756, 0.97012421, 0.63702303]])"
      ]
     },
     "execution_count": 13,
     "metadata": {},
     "output_type": "execute_result"
    }
   ],
   "source": [
    "# создадим случайную матрицу\n",
    "random_matrix = get_random_inv_matrix(features_train.shape[1])\n",
    "random_matrix"
   ]
  },
  {
   "cell_type": "markdown",
   "metadata": {},
   "source": [
    "### Обучение"
   ]
  },
  {
   "cell_type": "code",
   "execution_count": 14,
   "metadata": {},
   "outputs": [],
   "source": [
    "def train_linear_model(features_train, target_train, features_test, target_test, encoded=False):\n",
    "    model = LinearRegression()\n",
    "    if encoded:\n",
    "        features_train = features_train @ random_matrix\n",
    "        features_test = features_test @ random_matrix\n",
    "    model.fit(features_train, target_train)\n",
    "    predictions = model.predict(features_test)\n",
    "    return r2_score(target_test, predictions)"
   ]
  },
  {
   "cell_type": "code",
   "execution_count": 15,
   "metadata": {},
   "outputs": [
    {
     "name": "stdout",
     "output_type": "stream",
     "text": [
      "R2 без кодирования 0.40207079626868947\n",
      "R2 c кодированием  0.40207079626868936\n"
     ]
    }
   ],
   "source": [
    "print('R2 без кодирования', \n",
    "      train_linear_model(features_train_scaled, target_train, features_test_scaled, target_test))\n",
    "print('R2 c кодированием ', \n",
    "      train_linear_model(features_train_scaled, target_train, features_test_scaled, target_test, encoded=True))"
   ]
  },
  {
   "cell_type": "markdown",
   "metadata": {},
   "source": [
    "Как мы видим, полученные данные оказались практически неизменными. Из этого можно сделать вывод, что кодирование не оказало значимого влияния на качество обучения модели."
   ]
  },
  {
   "cell_type": "markdown",
   "metadata": {},
   "source": [
    "## Вывод"
   ]
  },
  {
   "cell_type": "markdown",
   "metadata": {},
   "source": [
    "В ходе данного исследования мы проверяли возможность шифрования персональных данных клиентов, путем умножения матрицы признаков на квадратную обратимую матрицу. Таким образом мы можем получить другие данные, которые без декодирования постороннему человеку ничего не скажут. Мы математически обосновали, что умножение матрицы не окажет влияния на получаемые предсказания, а также придумали алгоритм сравнения моделей, где признаки кодировались и нет. В итоге мы реализовали алгоритм и практически подтвердили, что подобное кодирование не оказывает значимого влияния на качество моделей по метрике R2. \n",
    "\n",
    "Итого, данный метод можно применять для текущих моделей без потери качества."
   ]
  },
  {
   "cell_type": "code",
   "execution_count": null,
   "metadata": {},
   "outputs": [],
   "source": []
  }
 ],
 "metadata": {
  "ExecuteTimeLog": [
   {
    "duration": 3245,
    "start_time": "2023-03-18T05:47:55.149Z"
   },
   {
    "duration": 85,
    "start_time": "2023-03-18T05:47:58.396Z"
   },
   {
    "duration": 23,
    "start_time": "2023-03-18T05:47:58.486Z"
   },
   {
    "duration": 19,
    "start_time": "2023-03-18T05:47:58.512Z"
   },
   {
    "duration": 12,
    "start_time": "2023-03-18T05:47:58.533Z"
   },
   {
    "duration": 11,
    "start_time": "2023-03-18T05:47:58.547Z"
   },
   {
    "duration": 451,
    "start_time": "2023-03-18T05:47:58.559Z"
   },
   {
    "duration": 4,
    "start_time": "2023-03-18T05:47:59.011Z"
   },
   {
    "duration": 17,
    "start_time": "2023-03-18T05:47:59.016Z"
   },
   {
    "duration": 26,
    "start_time": "2023-03-18T05:47:59.037Z"
   },
   {
    "duration": 10,
    "start_time": "2023-03-18T05:47:59.080Z"
   },
   {
    "duration": 25,
    "start_time": "2023-03-18T05:47:59.092Z"
   },
   {
    "duration": 65,
    "start_time": "2023-03-18T05:47:59.119Z"
   },
   {
    "duration": 129,
    "start_time": "2023-03-18T05:47:59.187Z"
   },
   {
    "duration": 1617,
    "start_time": "2023-03-20T07:25:39.797Z"
   },
   {
    "duration": 1440,
    "start_time": "2023-03-20T07:25:48.543Z"
   },
   {
    "duration": 73,
    "start_time": "2023-03-20T07:25:49.990Z"
   },
   {
    "duration": 15,
    "start_time": "2023-03-20T07:25:50.065Z"
   },
   {
    "duration": 27,
    "start_time": "2023-03-20T07:25:50.084Z"
   },
   {
    "duration": 7,
    "start_time": "2023-03-20T07:25:50.113Z"
   },
   {
    "duration": 4,
    "start_time": "2023-03-20T07:25:50.122Z"
   },
   {
    "duration": 323,
    "start_time": "2023-03-20T07:25:50.127Z"
   },
   {
    "duration": 3,
    "start_time": "2023-03-20T07:25:50.452Z"
   },
   {
    "duration": 25,
    "start_time": "2023-03-20T07:25:50.456Z"
   },
   {
    "duration": 18,
    "start_time": "2023-03-20T07:25:50.484Z"
   },
   {
    "duration": 8,
    "start_time": "2023-03-20T07:25:50.504Z"
   },
   {
    "duration": 12,
    "start_time": "2023-03-20T07:25:50.513Z"
   },
   {
    "duration": 74,
    "start_time": "2023-03-20T07:25:50.527Z"
   },
   {
    "duration": 86,
    "start_time": "2023-03-20T07:25:50.603Z"
   },
   {
    "duration": 4,
    "start_time": "2023-03-20T07:39:22.275Z"
   },
   {
    "duration": 4,
    "start_time": "2023-03-20T07:39:49.612Z"
   },
   {
    "duration": 6,
    "start_time": "2023-03-20T07:40:55.471Z"
   },
   {
    "duration": 7,
    "start_time": "2023-03-20T07:41:00.054Z"
   },
   {
    "duration": 3,
    "start_time": "2023-03-20T07:42:20.050Z"
   },
   {
    "duration": 6,
    "start_time": "2023-03-20T07:42:26.442Z"
   },
   {
    "duration": 5,
    "start_time": "2023-03-20T07:42:50.962Z"
   },
   {
    "duration": 15,
    "start_time": "2023-03-20T07:42:51.194Z"
   },
   {
    "duration": 5,
    "start_time": "2023-03-20T08:03:51.524Z"
   },
   {
    "duration": 6,
    "start_time": "2023-03-20T08:03:57.865Z"
   },
   {
    "duration": 189,
    "start_time": "2023-03-20T08:04:26.504Z"
   },
   {
    "duration": 12,
    "start_time": "2023-03-20T08:04:51.484Z"
   },
   {
    "duration": 11,
    "start_time": "2023-03-20T08:09:28.412Z"
   },
   {
    "duration": 6,
    "start_time": "2023-03-20T08:09:36.113Z"
   },
   {
    "duration": 5,
    "start_time": "2023-03-20T08:12:10.023Z"
   },
   {
    "duration": 6,
    "start_time": "2023-03-20T08:12:27.632Z"
   },
   {
    "duration": 6,
    "start_time": "2023-03-20T08:12:59.514Z"
   },
   {
    "duration": 6,
    "start_time": "2023-03-20T08:14:40.181Z"
   },
   {
    "duration": 6,
    "start_time": "2023-03-20T08:15:12.286Z"
   },
   {
    "duration": 6,
    "start_time": "2023-03-20T08:15:29.237Z"
   },
   {
    "duration": 1517,
    "start_time": "2023-03-20T08:20:37.762Z"
   },
   {
    "duration": 31,
    "start_time": "2023-03-20T08:20:39.282Z"
   },
   {
    "duration": 16,
    "start_time": "2023-03-20T08:20:39.315Z"
   },
   {
    "duration": 13,
    "start_time": "2023-03-20T08:20:39.333Z"
   },
   {
    "duration": 12,
    "start_time": "2023-03-20T08:20:39.348Z"
   },
   {
    "duration": 21,
    "start_time": "2023-03-20T08:20:39.362Z"
   },
   {
    "duration": 25,
    "start_time": "2023-03-20T08:20:39.385Z"
   },
   {
    "duration": 390,
    "start_time": "2023-03-20T08:20:39.412Z"
   },
   {
    "duration": 4,
    "start_time": "2023-03-20T08:20:39.804Z"
   },
   {
    "duration": 17,
    "start_time": "2023-03-20T08:20:39.810Z"
   },
   {
    "duration": 20,
    "start_time": "2023-03-20T08:20:39.828Z"
   },
   {
    "duration": 6,
    "start_time": "2023-03-20T08:20:39.849Z"
   },
   {
    "duration": 24,
    "start_time": "2023-03-20T08:20:39.857Z"
   },
   {
    "duration": 130,
    "start_time": "2023-03-20T08:20:39.884Z"
   },
   {
    "duration": 70,
    "start_time": "2023-03-20T08:20:40.017Z"
   },
   {
    "duration": 49,
    "start_time": "2023-03-21T06:24:31.108Z"
   },
   {
    "duration": 1547,
    "start_time": "2023-03-21T06:24:36.580Z"
   },
   {
    "duration": 73,
    "start_time": "2023-03-21T06:24:42.802Z"
   },
   {
    "duration": 7,
    "start_time": "2023-03-21T06:25:00.077Z"
   },
   {
    "duration": 15,
    "start_time": "2023-03-21T06:27:35.678Z"
   },
   {
    "duration": 5,
    "start_time": "2023-03-21T06:27:50.251Z"
   },
   {
    "duration": 7,
    "start_time": "2023-03-21T06:28:08.740Z"
   },
   {
    "duration": 5,
    "start_time": "2023-03-21T06:35:39.851Z"
   },
   {
    "duration": 1452,
    "start_time": "2023-03-21T06:57:36.652Z"
   },
   {
    "duration": 119,
    "start_time": "2023-03-21T06:57:38.106Z"
   },
   {
    "duration": 12,
    "start_time": "2023-03-21T06:57:38.227Z"
   },
   {
    "duration": 17,
    "start_time": "2023-03-21T06:57:38.248Z"
   },
   {
    "duration": 6,
    "start_time": "2023-03-21T06:57:38.267Z"
   },
   {
    "duration": 6,
    "start_time": "2023-03-21T06:57:38.274Z"
   },
   {
    "duration": 8,
    "start_time": "2023-03-21T06:57:38.281Z"
   },
   {
    "duration": 372,
    "start_time": "2023-03-21T06:57:38.291Z"
   },
   {
    "duration": 3,
    "start_time": "2023-03-21T06:57:38.665Z"
   },
   {
    "duration": 8,
    "start_time": "2023-03-21T06:57:38.670Z"
   },
   {
    "duration": 16,
    "start_time": "2023-03-21T06:57:38.679Z"
   },
   {
    "duration": 4,
    "start_time": "2023-03-21T06:57:38.697Z"
   },
   {
    "duration": 47,
    "start_time": "2023-03-21T06:57:38.703Z"
   },
   {
    "duration": 13,
    "start_time": "2023-03-21T06:57:38.753Z"
   },
   {
    "duration": 92,
    "start_time": "2023-03-21T06:57:38.769Z"
   }
  ],
  "kernelspec": {
   "display_name": "Python 3 (ipykernel)",
   "language": "python",
   "name": "python3"
  },
  "language_info": {
   "codemirror_mode": {
    "name": "ipython",
    "version": 3
   },
   "file_extension": ".py",
   "mimetype": "text/x-python",
   "name": "python",
   "nbconvert_exporter": "python",
   "pygments_lexer": "ipython3",
   "version": "3.9.13"
  },
  "toc": {
   "base_numbering": 1,
   "nav_menu": {},
   "number_sections": true,
   "sideBar": true,
   "skip_h1_title": true,
   "title_cell": "Содержание",
   "title_sidebar": "Contents",
   "toc_cell": true,
   "toc_position": {
    "height": "calc(100% - 180px)",
    "left": "10px",
    "top": "150px",
    "width": "384px"
   },
   "toc_section_display": true,
   "toc_window_display": true
  }
 },
 "nbformat": 4,
 "nbformat_minor": 2
}
